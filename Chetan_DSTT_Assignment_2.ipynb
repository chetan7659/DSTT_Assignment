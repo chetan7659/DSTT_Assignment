{
 "cells": [
  {
   "cell_type": "markdown",
   "id": "efc04449-de19-476e-9b02-d8b241bf6dc9",
   "metadata": {},
   "source": [
    "# Course Name: Data Science Tools & Techniques Course Code: AM609\n",
    "# Name : Chetan Sethy , Data Science\n",
    "# Regd Num : 24-22-27"
   ]
  },
  {
   "cell_type": "markdown",
   "id": "f9f47ff2-223a-4feb-8a74-42d8f1e2b238",
   "metadata": {},
   "source": [
    "### Q1\r\n",
    "a) Create a variable named var1 that stores an array of numbers from 0 to 30,\r\n",
    "inclusive. Print var1 and its shape. Hint : arange"
   ]
  },
  {
   "cell_type": "code",
   "execution_count": 178,
   "id": "9647cc72-3500-42c9-a52a-f13dd5fd05e6",
   "metadata": {},
   "outputs": [
    {
     "name": "stdout",
     "output_type": "stream",
     "text": [
      "var1: [ 0  1  2  3  4  5  6  7  8  9 10 11 12 13 14 15 16 17 18 19 20 21 22 23\n",
      " 24 25 26 27 28 29 30]\n",
      "Shape of var1: (31,)\n"
     ]
    }
   ],
   "source": [
    "import numpy as np\n",
    "var1 = np.arange(0,31)\n",
    "print(\"var1:\", var1)\n",
    "print(\"Shape of var1:\", var1.shape)"
   ]
  },
  {
   "cell_type": "markdown",
   "id": "cb8345fb-e9ea-414f-8843-c4abde4e1413",
   "metadata": {},
   "source": [
    "### \n",
    "b) Change var2 to a validly-shaped two-dimensional matrix and store it in a\r\n",
    "new variable called var2. Print var2 and its shape. Hint: Use the reshape function"
   ]
  },
  {
   "cell_type": "code",
   "execution_count": 181,
   "id": "8131fae6-0218-44ed-b825-e548f6237b26",
   "metadata": {},
   "outputs": [
    {
     "name": "stdout",
     "output_type": "stream",
     "text": [
      "[[ 0  1  2  3  4  5]\n",
      " [ 6  7  8  9 10 11]\n",
      " [12 13 14 15 16 17]\n",
      " [18 19 20 21 22 23]\n",
      " [24 25 26 27 28 29]]\n",
      "Shape of var2: (5, 6)\n"
     ]
    }
   ],
   "source": [
    "var2 = var1[:30].reshape(5, 6)\n",
    "print(var2)\n",
    "print(\"Shape of var2:\", var2.shape)"
   ]
  },
  {
   "cell_type": "markdown",
   "id": "f34d5852-1c1c-4a50-a09e-c09b6dade196",
   "metadata": {},
   "source": [
    "c) Create a third variable, var3 that reshapes it into a valid three-dimensional shape.\n",
    "Print var3 and its shape"
   ]
  },
  {
   "cell_type": "code",
   "execution_count": 184,
   "id": "b8a4c9d8-d11b-4463-8850-a962b6189fcb",
   "metadata": {},
   "outputs": [
    {
     "name": "stdout",
     "output_type": "stream",
     "text": [
      "[[[ 0]]\n",
      "\n",
      " [[ 1]]\n",
      "\n",
      " [[ 2]]\n",
      "\n",
      " [[ 3]]\n",
      "\n",
      " [[ 4]]\n",
      "\n",
      " [[ 5]]\n",
      "\n",
      " [[ 6]]\n",
      "\n",
      " [[ 7]]\n",
      "\n",
      " [[ 8]]\n",
      "\n",
      " [[ 9]]\n",
      "\n",
      " [[10]]\n",
      "\n",
      " [[11]]\n",
      "\n",
      " [[12]]\n",
      "\n",
      " [[13]]\n",
      "\n",
      " [[14]]\n",
      "\n",
      " [[15]]\n",
      "\n",
      " [[16]]\n",
      "\n",
      " [[17]]\n",
      "\n",
      " [[18]]\n",
      "\n",
      " [[19]]\n",
      "\n",
      " [[20]]\n",
      "\n",
      " [[21]]\n",
      "\n",
      " [[22]]\n",
      "\n",
      " [[23]]\n",
      "\n",
      " [[24]]\n",
      "\n",
      " [[25]]\n",
      "\n",
      " [[26]]\n",
      "\n",
      " [[27]]\n",
      "\n",
      " [[28]]\n",
      "\n",
      " [[29]]\n",
      "\n",
      " [[30]]]\n",
      "Shape of var3: (31, 1, 1)\n"
     ]
    }
   ],
   "source": [
    "var3 = var1.reshape(31,1,1)\n",
    "print(var3)\n",
    "print(\"Shape of var3:\", var3.shape)"
   ]
  },
  {
   "cell_type": "code",
   "execution_count": 186,
   "id": "08dc6410-fbde-41ab-8d85-272a74bbd3d0",
   "metadata": {},
   "outputs": [
    {
     "name": "stdout",
     "output_type": "stream",
     "text": [
      "var2 after modification:\n",
      " [[ 0  1  2  3  4  5]\n",
      " [-1  7  8  9 10 11]\n",
      " [12 13 14 15 16 17]\n",
      " [18 19 20 21 22 23]\n",
      " [24 25 26 27 28 29]]\n",
      "var1 after modifying var2:\n",
      " [ 0  1  2  3  4  5 -1  7  8  9 10 11 12 13 14 15 16 17 18 19 20 21 22 23\n",
      " 24 25 26 27 28 29 30]\n",
      "var3 after modifying var2:\n",
      " [[[ 0]]\n",
      "\n",
      " [[ 1]]\n",
      "\n",
      " [[ 2]]\n",
      "\n",
      " [[ 3]]\n",
      "\n",
      " [[ 4]]\n",
      "\n",
      " [[ 5]]\n",
      "\n",
      " [[-1]]\n",
      "\n",
      " [[ 7]]\n",
      "\n",
      " [[ 8]]\n",
      "\n",
      " [[ 9]]\n",
      "\n",
      " [[10]]\n",
      "\n",
      " [[11]]\n",
      "\n",
      " [[12]]\n",
      "\n",
      " [[13]]\n",
      "\n",
      " [[14]]\n",
      "\n",
      " [[15]]\n",
      "\n",
      " [[16]]\n",
      "\n",
      " [[17]]\n",
      "\n",
      " [[18]]\n",
      "\n",
      " [[19]]\n",
      "\n",
      " [[20]]\n",
      "\n",
      " [[21]]\n",
      "\n",
      " [[22]]\n",
      "\n",
      " [[23]]\n",
      "\n",
      " [[24]]\n",
      "\n",
      " [[25]]\n",
      "\n",
      " [[26]]\n",
      "\n",
      " [[27]]\n",
      "\n",
      " [[28]]\n",
      "\n",
      " [[29]]\n",
      "\n",
      " [[30]]]\n"
     ]
    }
   ],
   "source": [
    "var2[1, 0] = -1\n",
    "\n",
    "var3 = var1.reshape(31, 1, 1)\n",
    "\n",
    "print(\"var2 after modification:\\n\", var2)\n",
    "print(\"var1 after modifying var2:\\n\", var1)\n",
    "print(\"var3 after modifying var2:\\n\", var3)\n"
   ]
  },
  {
   "cell_type": "markdown",
   "id": "0806f3d8-4178-4a1a-a326-23de02f4002f",
   "metadata": {},
   "source": [
    "### e)\n",
    "Another thing that comes up a lot with array shapes is thinking about how to\n",
    "aggregate over specific dimensions. Figure out how the NumPy sum function\n",
    "works (and the axis argument in particular) and do the following:\n",
    "(i) Sum var3 over its second dimension and print the result.\n",
    "(ii) Sum var3 over its third dimension and print the result.\n",
    "(iii) Sum var3 over both its first and third dimensions and print the result."
   ]
  },
  {
   "cell_type": "code",
   "execution_count": 189,
   "id": "8cb0168d-b832-485d-9a40-3bb95aaedfb1",
   "metadata": {},
   "outputs": [
    {
     "name": "stdout",
     "output_type": "stream",
     "text": [
      "Sum over second dimension (axis 1): [[ 0]\n",
      " [ 1]\n",
      " [ 2]\n",
      " [ 3]\n",
      " [ 4]\n",
      " [ 5]\n",
      " [-1]\n",
      " [ 7]\n",
      " [ 8]\n",
      " [ 9]\n",
      " [10]\n",
      " [11]\n",
      " [12]\n",
      " [13]\n",
      " [14]\n",
      " [15]\n",
      " [16]\n",
      " [17]\n",
      " [18]\n",
      " [19]\n",
      " [20]\n",
      " [21]\n",
      " [22]\n",
      " [23]\n",
      " [24]\n",
      " [25]\n",
      " [26]\n",
      " [27]\n",
      " [28]\n",
      " [29]\n",
      " [30]]\n"
     ]
    }
   ],
   "source": [
    "# (i) Sum var3 over its second dimension (axis 1)\n",
    "sum_over_second_dim = np.sum(var3, axis=1)\n",
    "print(\"Sum over second dimension (axis 1):\", sum_over_second_dim)"
   ]
  },
  {
   "cell_type": "code",
   "execution_count": 191,
   "id": "7f968db2-f8e9-4f2f-b2a5-0e06084a45d4",
   "metadata": {},
   "outputs": [
    {
     "name": "stdout",
     "output_type": "stream",
     "text": [
      "Sum over third dimension (axis 2): [[ 0]\n",
      " [ 1]\n",
      " [ 2]\n",
      " [ 3]\n",
      " [ 4]\n",
      " [ 5]\n",
      " [-1]\n",
      " [ 7]\n",
      " [ 8]\n",
      " [ 9]\n",
      " [10]\n",
      " [11]\n",
      " [12]\n",
      " [13]\n",
      " [14]\n",
      " [15]\n",
      " [16]\n",
      " [17]\n",
      " [18]\n",
      " [19]\n",
      " [20]\n",
      " [21]\n",
      " [22]\n",
      " [23]\n",
      " [24]\n",
      " [25]\n",
      " [26]\n",
      " [27]\n",
      " [28]\n",
      " [29]\n",
      " [30]]\n"
     ]
    }
   ],
   "source": [
    "# (ii) Sum var3 over its third dimension (axis 2)\n",
    "sum_over_third_dim = np.sum(var3, axis=2)\n",
    "print(\"Sum over third dimension (axis 2):\", sum_over_third_dim)"
   ]
  },
  {
   "cell_type": "code",
   "execution_count": 193,
   "id": "5f8c42fa-3444-47d1-8709-1729bb003d8c",
   "metadata": {},
   "outputs": [
    {
     "name": "stdout",
     "output_type": "stream",
     "text": [
      "Sum over first and third dimensions (axes 0 and 2): [458]\n"
     ]
    }
   ],
   "source": [
    "# (iii) Sum var3 over both its first and third dimensions (axes 0 and 2)\n",
    "sum_over_first_third_dim = np.sum(var3, axis=(0, 2))\n",
    "print(\"Sum over first and third dimensions (axes 0 and 2):\", sum_over_first_third_dim)"
   ]
  },
  {
   "cell_type": "raw",
   "id": "c9a15957-8037-4823-9a03-cb6552e99bf0",
   "metadata": {},
   "source": [
    "f) Write code to do the following:\n",
    "(i) Slice out the second row of var2 and print it.\n",
    "(ii) Slice out the last column of var2 using the -1 notation and print it.\n",
    "(iii) Slice out the top right 2 × 2 submatrix of var2 and print it."
   ]
  },
  {
   "cell_type": "code",
   "execution_count": 195,
   "id": "b9f763c0-3147-4152-b64e-34f0dff121a1",
   "metadata": {},
   "outputs": [
    {
     "name": "stdout",
     "output_type": "stream",
     "text": [
      "Second row of var2: [-1  7  8  9 10 11]\n"
     ]
    }
   ],
   "source": [
    "# (i)  Slice out the second row (index 1)\n",
    "second_row = var2[1, :]\n",
    "print(\"Second row of var2:\", second_row)\n"
   ]
  },
  {
   "cell_type": "code",
   "execution_count": 197,
   "id": "2469d3fb-9027-460b-8711-e3e690137f47",
   "metadata": {},
   "outputs": [
    {
     "name": "stdout",
     "output_type": "stream",
     "text": [
      "Last column of var2: [ 5 11 17 23 29]\n"
     ]
    }
   ],
   "source": [
    "# (ii) Slice out the last column (all rows, last column)\n",
    "last_column = var2[:, -1]\n",
    "print(\"Last column of var2:\", last_column)\n"
   ]
  },
  {
   "cell_type": "code",
   "execution_count": 199,
   "id": "b197f39f-21c7-4708-a0a5-01ce487220de",
   "metadata": {},
   "outputs": [
    {
     "name": "stdout",
     "output_type": "stream",
     "text": [
      "Top-right 2x2 submatrix of var2:\n",
      " [[ 4  5]\n",
      " [10 11]]\n"
     ]
    }
   ],
   "source": [
    "# (iii) Slice out the top-right 2x2 submatrix (first two rows, last two columns)\n",
    "top_right_submatrix = var2[:2, -2:]\n",
    "print(\"Top-right 2x2 submatrix of var2:\\n\", top_right_submatrix)\n"
   ]
  },
  {
   "cell_type": "code",
   "execution_count": null,
   "id": "f30420ce-f0cf-47be-afe7-d6e893089c92",
   "metadata": {},
   "outputs": [],
   "source": []
  },
  {
   "cell_type": "markdown",
   "id": "44104b55-452c-4b82-a65e-769dfe50fbda",
   "metadata": {},
   "source": [
    "### Q2 a) \n",
    "The most basic kind of broadcast is with a scalar, in which you can perform a\n",
    "binary operation (e.g., add, multiply, ...) on an array and a scalar, the effect is to\n",
    "perform that operation with the scalar for every element of the array. To try this\n",
    "out, create a vector 1, 2, . . . , 10 by adding 1 to the result of the arange function."
   ]
  },
  {
   "cell_type": "code",
   "execution_count": 203,
   "id": "512df5e5-3a80-4a00-a02e-ead3ef080ffa",
   "metadata": {},
   "outputs": [
    {
     "name": "stdout",
     "output_type": "stream",
     "text": [
      "Vector from 1 to 10: [ 1  2  3  4  5  6  7  8  9 10]\n"
     ]
    }
   ],
   "source": [
    "vector = np.arange(10) + 1\n",
    "print(\"Vector from 1 to 10:\", vector)\n"
   ]
  },
  {
   "cell_type": "markdown",
   "id": "5e307d1b-343c-44b5-ab81-cb207c865b18",
   "metadata": {},
   "source": [
    "### b) \n",
    "Now, create a 10 × 10 matrix A in which Ai j = i + j. You’ll be able to do this\n",
    "using the vector you just created, and adding it to a reshaped version of itself."
   ]
  },
  {
   "cell_type": "code",
   "execution_count": 206,
   "id": "bd49ba05-0e4e-47ce-a6b4-fd0e29fb28b6",
   "metadata": {},
   "outputs": [
    {
     "name": "stdout",
     "output_type": "stream",
     "text": [
      "Matrix A (10x10) where A[i, j] = i + j:\n",
      " [[ 2  3  4  5  6  7  8  9 10 11]\n",
      " [ 3  4  5  6  7  8  9 10 11 12]\n",
      " [ 4  5  6  7  8  9 10 11 12 13]\n",
      " [ 5  6  7  8  9 10 11 12 13 14]\n",
      " [ 6  7  8  9 10 11 12 13 14 15]\n",
      " [ 7  8  9 10 11 12 13 14 15 16]\n",
      " [ 8  9 10 11 12 13 14 15 16 17]\n",
      " [ 9 10 11 12 13 14 15 16 17 18]\n",
      " [10 11 12 13 14 15 16 17 18 19]\n",
      " [11 12 13 14 15 16 17 18 19 20]]\n"
     ]
    }
   ],
   "source": [
    "# Create the 10x10 matrix A where A[i, j] = i + j\n",
    "A = vector.reshape(10, 1) + vector\n",
    "\n",
    "# Print the matrix A\n",
    "print(\"Matrix A (10x10) where A[i, j] = i + j:\\n\", A)\n"
   ]
  },
  {
   "cell_type": "markdown",
   "id": "01845229-ee2c-479b-b82d-1246e8768935",
   "metadata": {},
   "source": [
    "### c)\n",
    "A very common use of broadcasting is to standardize data, i.e., to make it have\r\n",
    "zero mean and unit variance. First, create a fake “data set” with 50 examples,\r\n",
    "each with five dimension\n",
    "s  Hint \"\" .\r\n",
    "import numpy.random as npr\r\n",
    "data = np.exp(npr.randn ( 50 , 5 \"\" ) )"
   ]
  },
  {
   "cell_type": "code",
   "execution_count": 209,
   "id": "994ac017-ce83-4e57-9a56-baf531e76160",
   "metadata": {},
   "outputs": [
    {
     "name": "stdout",
     "output_type": "stream",
     "text": [
      "Fake dataset (first 5 rows):\n",
      " [[0.47508467 1.00672429 0.63847938 0.08679523 0.61283838]\n",
      " [0.47516572 3.86820108 0.94887374 0.85939818 1.38663497]\n",
      " [1.30037628 0.69270063 1.90554494 0.30789515 0.75621622]\n",
      " [1.34521237 2.00051458 0.17421354 0.10738262 9.72923846]\n",
      " [1.19069818 0.68324476 1.12454313 0.19420519 3.96849757]]\n"
     ]
    }
   ],
   "source": [
    "import numpy as np\n",
    "import numpy.random as npr\n",
    "\n",
    "# Create a fake dataset with 50 examples and 5 dimensions\n",
    "data = np.exp(npr.randn(50, 5))\n",
    "\n",
    "# Print the first few rows of the dataset to see what it looks like\n",
    "print(\"Fake dataset (first 5 rows):\\n\", data[:5])\n"
   ]
  },
  {
   "cell_type": "markdown",
   "id": "a91006f5-d85c-41a6-abbb-8fbc68395d60",
   "metadata": {},
   "source": [
    "### d,e,f)\n"
   ]
  },
  {
   "cell_type": "code",
   "execution_count": 212,
   "id": "f17fad79-5f7a-4058-beeb-46feb16d4b88",
   "metadata": {},
   "outputs": [
    {
     "name": "stdout",
     "output_type": "stream",
     "text": [
      "Mean of each column: [2.05688326 1.56047106 1.40145112 2.02387439 1.70503427]\n",
      "Standard deviation of each column: [2.57036673 1.6667864  1.23769291 2.56893324 1.72913151]\n",
      "Normalized data (first 5 rows):\n",
      " [[-0.61539801 -0.3322242  -0.61644672 -0.75404029 -0.6316442 ]\n",
      " [-0.61536648  1.38453855 -0.36566209 -0.45329174 -0.18413828]\n",
      " [-0.29431869 -0.52062486  0.40728505 -0.66797347 -0.54872521]\n",
      " [-0.27687523  0.26400714 -0.99155256 -0.7460263   4.64059798]\n",
      " [-0.33698891 -0.52629797 -0.22372915 -0.71222917  1.30901744]]\n",
      "Mean of normalized data (should be close to 0): [ 8.21565038e-17  2.42583731e-16 -2.88657986e-17 -3.38618023e-17\n",
      "  2.37587727e-16]\n",
      "Standard deviation of normalized data (should be close to 1): [1. 1. 1. 1. 1.]\n"
     ]
    }
   ],
   "source": [
    "# Compute the mean of each column\n",
    "mean_vector = data.mean(axis=0)\n",
    "\n",
    "# Compute the standard deviation of each column\n",
    "std_vector = data.std(axis=0)\n",
    "\n",
    "# Print the mean and standard deviation vectors\n",
    "print(\"Mean of each column:\", mean_vector)\n",
    "print(\"Standard deviation of each column:\", std_vector)\n",
    "\n",
    "\n",
    "\n",
    "\n",
    "#f) \n",
    "# Standardize the data matrix\n",
    "normalized = (data - mean_vector) / std_vector\n",
    "\n",
    "# Print the first 5 rows of the normalized matrix\n",
    "print(\"Normalized data (first 5 rows):\\n\", normalized[:5])\n",
    "\n",
    "# Verify the result by computing the mean and standard deviation of the normalized data\n",
    "normalized_mean = normalized.mean(axis=0)\n",
    "normalized_std = normalized.std(axis=0)\n",
    "\n",
    "# Print the mean and standard deviation of the normalized data\n",
    "print(\"Mean of normalized data (should be close to 0):\", normalized_mean)\n",
    "print(\"Standard deviation of normalized data (should be close to 1):\", normalized_std)\n"
   ]
  },
  {
   "cell_type": "markdown",
   "id": "52ec433a-8ffc-43de-b6c1-a2af411e5307",
   "metadata": {},
   "source": [
    "# Q3"
   ]
  },
  {
   "cell_type": "code",
   "execution_count": 215,
   "id": "1295c953-dc06-4757-b52e-5bddcf936592",
   "metadata": {},
   "outputs": [
    {
     "name": "stdout",
     "output_type": "stream",
     "text": [
      "[[           1            1            1            1            1\n",
      "             1            1            1            1            1\n",
      "             1            1]\n",
      " [           1            2            4            8           16\n",
      "            32           64          128          256          512\n",
      "          1024         2048]\n",
      " [           1            3            9           27           81\n",
      "           243          729         2187         6561        19683\n",
      "         59049       177147]\n",
      " [           1            4           16           64          256\n",
      "          1024         4096        16384        65536       262144\n",
      "       1048576      4194304]\n",
      " [           1            5           25          125          625\n",
      "          3125        15625        78125       390625      1953125\n",
      "       9765625     48828125]\n",
      " [           1            6           36          216         1296\n",
      "          7776        46656       279936      1679616     10077696\n",
      "      60466176    362797056]\n",
      " [           1            7           49          343         2401\n",
      "         16807       117649       823543      5764801     40353607\n",
      "     282475249   1977326743]\n",
      " [           1            8           64          512         4096\n",
      "         32768       262144      2097152     16777216    134217728\n",
      "    1073741824   8589934592]\n",
      " [           1            9           81          729         6561\n",
      "         59049       531441      4782969     43046721    387420489\n",
      "    3486784401  31381059609]\n",
      " [           1           10          100         1000        10000\n",
      "        100000      1000000     10000000    100000000   1000000000\n",
      "   10000000000 100000000000]\n",
      " [           1           11          121         1331        14641\n",
      "        161051      1771561     19487171    214358881   2357947691\n",
      "   25937424601 285311670611]\n",
      " [           1           12          144         1728        20736\n",
      "        248832      2985984     35831808    429981696   5159780352\n",
      "   61917364224 743008370688]]\n",
      "[1 1 1 1 1 1 1 1 1 1 1 1]\n",
      "Vector b (result of matrix-vector multiplication):\n",
      " [          12         4095       265720      5592405     61035156\n",
      "    435356467   2306881200   9817068105  35303692060 111111111111\n",
      " 313842837672 810554586205]\n",
      "Solved vector x:\n",
      " [1.10619363 0.6855576  1.38336806 0.74140687 1.10853749 0.96996722\n",
      " 1.00562989 0.99928089 1.00006163 0.99999661 1.00000011 1.        ]\n"
     ]
    }
   ],
   "source": [
    "import numpy as np\n",
    "\n",
    "def Vandermonde(N):\n",
    "    base = np.arange(N, dtype=np.int64) + 1  # Create base array [1, 2, ..., N]\n",
    "    power = np.arange(N, dtype=np.int64)     # Create power array [0, 1, 2, ..., N-1]\n",
    "    base = base.reshape(N, 1)                # Reshape base to (N, 1)\n",
    "    \n",
    "    vander = base ** power                   # Create Vandermonde matrix\n",
    "    \n",
    "    return vander                            # Return the matrix\n",
    "\n",
    "# Create Vandermonde matrix for N = 12\n",
    "vander_matrix = Vandermonde(12)\n",
    "print(vander_matrix)\n",
    "\n",
    "# Create a vector of ones of length 12\n",
    "x = np.ones(12, dtype=np.int64)  # Using int64 for consistency\n",
    "print(x)\n",
    "\n",
    "# Perform matrix-vector multiplication\n",
    "b = vander_matrix @ x  # or you can use np.dot(vander_matrix, x)\n",
    "\n",
    "# Print the resulting vector b\n",
    "print(\"Vector b (result of matrix-vector multiplication):\\n\", b)\n",
    "\n",
    "import numpy.linalg as linalg\n",
    "\n",
    "# Solve for x by inverting the Vandermonde matrix and multiplying by b\n",
    "# x_solved = linalg.inv(vander_matrix) @ b\n",
    "x_solved = linalg.solve(vander_matrix, b)\n",
    "\n",
    "# Print out the result\n",
    "print(\"Solved vector x:\\n\", x_solved)\n"
   ]
  },
  {
   "cell_type": "markdown",
   "id": "82280369-9c8a-4b03-9207-81f4c6fac8b1",
   "metadata": {},
   "source": [
    "# https://github.com/chetan7659/DSTT_Assignment.git"
   ]
  }
 ],
 "metadata": {
  "kernelspec": {
   "display_name": "Python 3 (ipykernel)",
   "language": "python",
   "name": "python3"
  },
  "language_info": {
   "codemirror_mode": {
    "name": "ipython",
    "version": 3
   },
   "file_extension": ".py",
   "mimetype": "text/x-python",
   "name": "python",
   "nbconvert_exporter": "python",
   "pygments_lexer": "ipython3",
   "version": "3.12.3"
  }
 },
 "nbformat": 4,
 "nbformat_minor": 5
}
